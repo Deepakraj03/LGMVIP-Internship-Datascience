{
  "nbformat": 4,
  "nbformat_minor": 0,
  "metadata": {
    "colab": {
      "name": "LetsGrowMore-Task3.ipynb",
      "provenance": [],
      "authorship_tag": "ABX9TyPkZreaa48JHTPNYOy9YO6+",
      "include_colab_link": true
    },
    "kernelspec": {
      "name": "python3",
      "display_name": "Python 3"
    },
    "language_info": {
      "name": "python"
    }
  },
  "cells": [
    {
      "cell_type": "markdown",
      "metadata": {
        "id": "view-in-github",
        "colab_type": "text"
      },
      "source": [
        "<a href=\"https://colab.research.google.com/github/Deepakraj03/LGMVIP-Internship-Datascience/blob/main/LetsGrowMore_Task3.ipynb\" target=\"_parent\"><img src=\"https://colab.research.google.com/assets/colab-badge.svg\" alt=\"Open In Colab\"/></a>"
      ]
    },
    {
      "cell_type": "markdown",
      "source": [
        "# LetsGrowMore Internship: Data Science\n",
        "# Advanced level - Task 3: Develop A Neural Network That Can Read Handwriting\n",
        "*submitted* *by* **Deepakraj** **R**\n",
        "\n",
        "---\n",
        "Description\n",
        "\n",
        "Begin your neural network machine learning project with the MNIST Handwritten Digit Classification Challenge and using Tensorflow and CNN.\n",
        "\n",
        "\n"
      ],
      "metadata": {
        "id": "Gdebeuvy5jqY"
      }
    },
    {
      "cell_type": "markdown",
      "source": [
        "# Import all libraries"
      ],
      "metadata": {
        "id": "Avsw1XAC6G8Z"
      }
    },
    {
      "cell_type": "code",
      "execution_count": 10,
      "metadata": {
        "id": "ujRHzlxb34Kc"
      },
      "outputs": [],
      "source": [
        "import io \n",
        "import numpy as np \n",
        "import tensorflow as tf\n",
        "from PIL import Image\n",
        "import pandas as pd \n",
        "import seaborn as sb \n",
        "from google.colab import files \n",
        "import matplotlib.pyplot as plt \n",
        "from keras.datasets import mnist"
      ]
    },
    {
      "cell_type": "code",
      "source": [
        "mnist = tf.keras.datasets.mnist\n",
        "(X_train, Y_train), (X_test, Y_test) = mnist.load_data()"
      ],
      "metadata": {
        "colab": {
          "base_uri": "https://localhost:8080/"
        },
        "id": "CtYqfXV64b8k",
        "outputId": "27bccff7-fadf-48a8-c2ed-c5a84588f383"
      },
      "execution_count": 2,
      "outputs": [
        {
          "output_type": "stream",
          "name": "stdout",
          "text": [
            "Downloading data from https://storage.googleapis.com/tensorflow/tf-keras-datasets/mnist.npz\n",
            "11493376/11490434 [==============================] - 0s 0us/step\n",
            "11501568/11490434 [==============================] - 0s 0us/step\n"
          ]
        }
      ]
    },
    {
      "cell_type": "code",
      "source": [
        "plt.imshow(X_train[7],cmap=plt.cm.binary)\n",
        "plt.show()"
      ],
      "metadata": {
        "colab": {
          "base_uri": "https://localhost:8080/",
          "height": 265
        },
        "id": "BgH_zRoO4j8l",
        "outputId": "b44a931a-75e5-419f-a953-dc1bc1870f7e"
      },
      "execution_count": 3,
      "outputs": [
        {
          "output_type": "display_data",
          "data": {
            "image/png": "[encoded data removed]",
            "text/plain": [
              "<Figure size 432x288 with 1 Axes>"
            ]
          },
          "metadata": {
            "needs_background": "light"
          }
        }
      ]
    },
    {
      "cell_type": "markdown",
      "source": [
        "# Normalise X_train and X_test"
      ],
      "metadata": {
        "id": "WkljLM1J6X7q"
      }
    },
    {
      "cell_type": "code",
      "source": [
        "X_train=tf.keras.utils.normalize(X_train,axis=1)\n",
        "X_test=tf.keras.utils.normalize(X_test,axis=1)\n",
        "plt.imshow(X_train[7],cmap=plt.cm.binary)\n",
        "plt.show()"
      ],
      "metadata": {
        "colab": {
          "base_uri": "https://localhost:8080/",
          "height": 265
        },
        "id": "Fle7FPkd4r8I",
        "outputId": "67bd8107-a3fa-4f2f-8317-987705dee670"
      },
      "execution_count": 4,
      "outputs": [
        {
          "output_type": "display_data",
          "data": {
            "image/png": "[encoded data removed]",
            "text/plain": [
              "<Figure size 432x288 with 1 Axes>"
            ]
          },
          "metadata": {
            "needs_background": "light"
          }
        }
      ]
    },
    {
      "cell_type": "code",
      "source": [
        "model=tf.keras.models.Sequential()\n",
        "model.add(tf.keras.layers.Flatten())\n",
        "model.add(tf.keras.layers.Dense(128,activation=tf.nn.relu))\n",
        "model.add(tf.keras.layers.Dense(128,activation=tf.nn.relu))\n",
        "model.add(tf.keras.layers.Dense(10,activation=tf.nn.softmax))\n",
        "model.compile(optimizer='adam',loss='sparse_categorical_crossentropy',metrics=['accuracy'])\n",
        "model.fit(X_train,Y_train,epochs=10)"
      ],
      "metadata": {
        "colab": {
          "base_uri": "https://localhost:8080/"
        },
        "id": "V8rT0Awz4t9h",
        "outputId": "9a6480ab-638f-413a-dcfc-5f58adfc3fb9"
      },
      "execution_count": 5,
      "outputs": [
        {
          "output_type": "stream",
          "name": "stdout",
          "text": [
            "Epoch 1/10\n",
            "1875/1875 [==============================] - 5s 2ms/step - loss: 0.2650 - accuracy: 0.9234\n",
            "Epoch 2/10\n",
            "1875/1875 [==============================] - 4s 2ms/step - loss: 0.1095 - accuracy: 0.9658\n",
            "Epoch 3/10\n",
            "1875/1875 [==============================] - 5s 2ms/step - loss: 0.0749 - accuracy: 0.9767\n",
            "Epoch 4/10\n",
            "1875/1875 [==============================] - 5s 2ms/step - loss: 0.0536 - accuracy: 0.9827\n",
            "Epoch 5/10\n",
            "1875/1875 [==============================] - 5s 2ms/step - loss: 0.0412 - accuracy: 0.9865\n",
            "Epoch 6/10\n",
            "1875/1875 [==============================] - 5s 3ms/step - loss: 0.0316 - accuracy: 0.9898\n",
            "Epoch 7/10\n",
            "1875/1875 [==============================] - 5s 2ms/step - loss: 0.0255 - accuracy: 0.9913\n",
            "Epoch 8/10\n",
            "1875/1875 [==============================] - 5s 2ms/step - loss: 0.0216 - accuracy: 0.9928\n",
            "Epoch 9/10\n",
            "1875/1875 [==============================] - 5s 3ms/step - loss: 0.0169 - accuracy: 0.9940\n",
            "Epoch 10/10\n",
            "1875/1875 [==============================] - 5s 3ms/step - loss: 0.0158 - accuracy: 0.9948\n"
          ]
        },
        {
          "output_type": "execute_result",
          "data": {
            "text/plain": [
              "<keras.callbacks.History at 0x7faefa2f2690>"
            ]
          },
          "metadata": {},
          "execution_count": 5
        }
      ]
    },
    {
      "cell_type": "code",
      "source": [
        "model_loss,model_accu=model.evaluate(X_test,Y_test)\n",
        "print(model_loss,model_accu)"
      ],
      "metadata": {
        "colab": {
          "base_uri": "https://localhost:8080/"
        },
        "id": "SdT37BRd5HM5",
        "outputId": "adfb42e5-77a3-4c20-a0f0-f89310071537"
      },
      "execution_count": 6,
      "outputs": [
        {
          "output_type": "stream",
          "name": "stdout",
          "text": [
            "313/313 [==============================] - 1s 2ms/step - loss: 0.1027 - accuracy: 0.9772\n",
            "0.10269329696893692 0.9771999716758728\n"
          ]
        }
      ]
    },
    {
      "cell_type": "markdown",
      "source": [
        "# Prediction"
      ],
      "metadata": {
        "id": "0w0Q4X4U6n8t"
      }
    },
    {
      "cell_type": "code",
      "source": [
        "predicts=model.predict([X_test])\n",
        "print(predicts)"
      ],
      "metadata": {
        "colab": {
          "base_uri": "https://localhost:8080/"
        },
        "id": "nbcU6GSe5Mjb",
        "outputId": "27820674-4322-4231-8406-8404a21d4852"
      },
      "execution_count": 7,
      "outputs": [
        {
          "output_type": "stream",
          "name": "stdout",
          "text": [
            "WARNING:tensorflow:Layers in a Sequential model should only have a single input tensor, but we receive a <class 'tuple'> input: (<tf.Tensor 'IteratorGetNext:0' shape=(None, 28, 28) dtype=float32>,)\n",
            "Consider rewriting this model with the Functional API.\n",
            "[[1.3630798e-13 1.1756975e-11 1.8282129e-10 ... 1.0000000e+00\n",
            "  6.0383221e-15 1.4983097e-10]\n",
            " [2.0064393e-14 3.4612987e-07 9.9999964e-01 ... 1.3268465e-13\n",
            "  1.9184584e-10 8.8875833e-20]\n",
            " [1.4579777e-11 9.9999022e-01 8.5050436e-07 ... 4.4906074e-06\n",
            "  2.4602791e-06 3.5311409e-08]\n",
            " ...\n",
            " [3.5679741e-17 2.3640407e-11 8.9348220e-15 ... 1.3994315e-07\n",
            "  2.1737976e-11 2.3448543e-07]\n",
            " [1.1351656e-09 2.5953413e-11 1.7598269e-12 ... 3.8647413e-10\n",
            "  1.3511098e-03 1.2360584e-14]\n",
            " [3.6852260e-13 1.5674273e-16 8.1254507e-15 ... 3.8081964e-20\n",
            "  4.8561844e-16 1.5992179e-19]]\n"
          ]
        }
      ]
    },
    {
      "cell_type": "code",
      "source": [
        "print(np.argmax(predicts[90]))"
      ],
      "metadata": {
        "colab": {
          "base_uri": "https://localhost:8080/"
        },
        "id": "B62v1Qf75Qxf",
        "outputId": "98347f0e-0442-4802-df9e-4a26751a10eb"
      },
      "execution_count": 8,
      "outputs": [
        {
          "output_type": "stream",
          "name": "stdout",
          "text": [
            "3\n"
          ]
        }
      ]
    },
    {
      "cell_type": "code",
      "source": [
        "plt.imshow(X_test[90])\n",
        "plt.show()"
      ],
      "metadata": {
        "colab": {
          "base_uri": "https://localhost:8080/",
          "height": 265
        },
        "id": "OYChmRGN5UZq",
        "outputId": "f630fc58-e82f-4f40-d972-74791be435c9"
      },
      "execution_count": 9,
      "outputs": [
        {
          "output_type": "display_data",
          "data": {
            "image/png": "[encoded data removed]",
            "text/plain": [
              "<Figure size 432x288 with 1 Axes>"
            ]
          },
          "metadata": {
            "needs_background": "light"
          }
        }
      ]
    },
    {
      "cell_type": "markdown",
      "source": [
        "# Thank you\n",
        "\n",
        "\n",
        "---\n",
        "\n"
      ],
      "metadata": {
        "id": "13HLHAiN6tMb"
      }
    }
  ]
}